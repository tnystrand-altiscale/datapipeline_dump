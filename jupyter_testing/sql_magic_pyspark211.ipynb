{
 "cells": [
  {
   "cell_type": "markdown",
   "metadata": {},
   "source": [
    "# To use sql_magic:\n",
    "* Must use spark version > 2.0.0 "
   ]
  },
  {
   "cell_type": "code",
   "execution_count": 1,
   "metadata": {},
   "outputs": [],
   "source": [
    "import sys, os"
   ]
  },
  {
   "cell_type": "code",
   "execution_count": 2,
   "metadata": {
    "scrolled": true
   },
   "outputs": [
    {
     "name": "stdout",
     "output_type": "stream",
     "text": [
      "/opt/alti-spark-2.1.1\n",
      "/etc/alti-spark-2.1.1\n",
      "/opt/rh/python27/root/usr/bin/python\n",
      "/usr/bin/python\n",
      "\n",
      "<pyspark.sql.session.SparkSession object at 0x7f53f7b5ead0>\n"
     ]
    }
   ],
   "source": [
    "!echo $SPARK_HOME\n",
    "!echo $SPARK_CONF_DIR\n",
    "!echo $PYSPARK_PYTHON\n",
    "!echo $PYSPARK_DRIVER_PYTHON\n",
    "!echo $PYSPARK_SUBMIT_ARGS\n",
    "\n",
    "print spark"
   ]
  },
  {
   "cell_type": "code",
   "execution_count": 3,
   "metadata": {},
   "outputs": [
    {
     "name": "stdout",
     "output_type": "stream",
     "text": [
      "/home/tnystrand/anaconda2/envs/py27/bin/python\n"
     ]
    },
    {
     "data": {
      "application/javascript": [
       "\n",
       "    require(['notebook/js/codecell'], function(codecell) {\n",
       "      // https://github.com/jupyter/notebook/issues/2453\n",
       "      codecell.CodeCell.options_default.highlight_modes['magic_text/x-sql'] = {'reg':[/^%read_sql/, /.*=\\s*%read_sql/,\n",
       "                                                                                      /^%%read_sql/]};\n",
       "      Jupyter.notebook.events.one('kernel_ready.Kernel', function(){\n",
       "          console.log('BBBBB');\n",
       "          Jupyter.notebook.get_cells().map(function(cell){\n",
       "              if (cell.cell_type == 'code'){ cell.auto_highlight(); } }) ;\n",
       "      });\n",
       "    });\n",
       "    "
      ]
     },
     "metadata": {},
     "output_type": "display_data"
    }
   ],
   "source": [
    "# Print path to make sure we are in right place\n",
    "print sys.executable\n",
    "# Try to load sql_magic right away - early detect errors\n",
    "%load_ext sql_magic\n",
    "# Set the connection name\n",
    "%config SQL.conn_name = 'spark'"
   ]
  },
  {
   "cell_type": "code",
   "execution_count": 4,
   "metadata": {},
   "outputs": [
    {
     "name": "stdout",
     "output_type": "stream",
     "text": [
      "Query started at 06:12:20 PM UTC; Query executed in 0.02 m"
     ]
    },
    {
     "data": {
      "text/plain": [
       "<sql_magic.exceptions.EmptyResult at 0x7f53f7b56c10>"
      ]
     },
     "execution_count": 4,
     "metadata": {},
     "output_type": "execute_result"
    }
   ],
   "source": [
    "%%read_sql\n",
    "use cluster_metrics_prod_2"
   ]
  },
  {
   "cell_type": "code",
   "execution_count": 5,
   "metadata": {},
   "outputs": [
    {
     "name": "stdout",
     "output_type": "stream",
     "text": [
      "Query started at 06:12:21 PM UTC"
     ]
    }
   ],
   "source": [
    "%%read_sql -a df_fact\n",
    "select sum(slothours) as sh, date, system from job_fact where date>'2017-12-01' and system='dogfood' group by date, system"
   ]
  },
  {
   "cell_type": "code",
   "execution_count": 6,
   "metadata": {},
   "outputs": [
    {
     "name": "stdout",
     "output_type": "stream",
     "text": [
      "Query started at 06:12:51 PM UTC; Query executed in 0.29 m"
     ]
    },
    {
     "data": {
      "text/html": [
       "<div>\n",
       "<style>\n",
       "    .dataframe thead tr:only-child th {\n",
       "        text-align: right;\n",
       "    }\n",
       "\n",
       "    .dataframe thead th {\n",
       "        text-align: left;\n",
       "    }\n",
       "\n",
       "    .dataframe tbody tr th {\n",
       "        vertical-align: top;\n",
       "    }\n",
       "</style>\n",
       "<table border=\"1\" class=\"dataframe\">\n",
       "  <thead>\n",
       "    <tr style=\"text-align: right;\">\n",
       "      <th></th>\n",
       "      <th>sum(slothours)</th>\n",
       "      <th>sh</th>\n",
       "      <th>system</th>\n",
       "    </tr>\n",
       "  </thead>\n",
       "  <tbody>\n",
       "    <tr>\n",
       "      <th>0</th>\n",
       "      <td>2667.388178</td>\n",
       "      <td>2018-01-05</td>\n",
       "      <td>dogfood</td>\n",
       "    </tr>\n",
       "    <tr>\n",
       "      <th>1</th>\n",
       "      <td>541.413670</td>\n",
       "      <td>2018-01-09</td>\n",
       "      <td>dogfood</td>\n",
       "    </tr>\n",
       "    <tr>\n",
       "      <th>2</th>\n",
       "      <td>2288.782411</td>\n",
       "      <td>2018-01-06</td>\n",
       "      <td>dogfood</td>\n",
       "    </tr>\n",
       "    <tr>\n",
       "      <th>3</th>\n",
       "      <td>2309.390251</td>\n",
       "      <td>2018-01-10</td>\n",
       "      <td>dogfood</td>\n",
       "    </tr>\n",
       "    <tr>\n",
       "      <th>4</th>\n",
       "      <td>720.272636</td>\n",
       "      <td>2018-01-12</td>\n",
       "      <td>dogfood</td>\n",
       "    </tr>\n",
       "    <tr>\n",
       "      <th>5</th>\n",
       "      <td>0.000000</td>\n",
       "      <td>2017-12-26</td>\n",
       "      <td>dogfood</td>\n",
       "    </tr>\n",
       "    <tr>\n",
       "      <th>6</th>\n",
       "      <td>0.000000</td>\n",
       "      <td>2017-12-30</td>\n",
       "      <td>dogfood</td>\n",
       "    </tr>\n",
       "    <tr>\n",
       "      <th>7</th>\n",
       "      <td>1312.483709</td>\n",
       "      <td>2018-01-02</td>\n",
       "      <td>dogfood</td>\n",
       "    </tr>\n",
       "    <tr>\n",
       "      <th>8</th>\n",
       "      <td>718.717338</td>\n",
       "      <td>2017-12-21</td>\n",
       "      <td>dogfood</td>\n",
       "    </tr>\n",
       "    <tr>\n",
       "      <th>9</th>\n",
       "      <td>739.656004</td>\n",
       "      <td>2018-01-13</td>\n",
       "      <td>dogfood</td>\n",
       "    </tr>\n",
       "    <tr>\n",
       "      <th>10</th>\n",
       "      <td>0.000000</td>\n",
       "      <td>2017-12-31</td>\n",
       "      <td>dogfood</td>\n",
       "    </tr>\n",
       "    <tr>\n",
       "      <th>11</th>\n",
       "      <td>2878.213640</td>\n",
       "      <td>2018-01-04</td>\n",
       "      <td>dogfood</td>\n",
       "    </tr>\n",
       "    <tr>\n",
       "      <th>12</th>\n",
       "      <td>642.457092</td>\n",
       "      <td>2018-01-14</td>\n",
       "      <td>dogfood</td>\n",
       "    </tr>\n",
       "    <tr>\n",
       "      <th>13</th>\n",
       "      <td>0.000000</td>\n",
       "      <td>2017-12-28</td>\n",
       "      <td>dogfood</td>\n",
       "    </tr>\n",
       "    <tr>\n",
       "      <th>14</th>\n",
       "      <td>0.000000</td>\n",
       "      <td>2017-12-29</td>\n",
       "      <td>dogfood</td>\n",
       "    </tr>\n",
       "    <tr>\n",
       "      <th>15</th>\n",
       "      <td>726.286912</td>\n",
       "      <td>2017-12-22</td>\n",
       "      <td>dogfood</td>\n",
       "    </tr>\n",
       "    <tr>\n",
       "      <th>16</th>\n",
       "      <td>1150.219552</td>\n",
       "      <td>2018-01-11</td>\n",
       "      <td>dogfood</td>\n",
       "    </tr>\n",
       "    <tr>\n",
       "      <th>17</th>\n",
       "      <td>20601.711466</td>\n",
       "      <td>2018-01-03</td>\n",
       "      <td>dogfood</td>\n",
       "    </tr>\n",
       "    <tr>\n",
       "      <th>18</th>\n",
       "      <td>0.000000</td>\n",
       "      <td>2017-12-27</td>\n",
       "      <td>dogfood</td>\n",
       "    </tr>\n",
       "    <tr>\n",
       "      <th>19</th>\n",
       "      <td>175.218173</td>\n",
       "      <td>2017-12-23</td>\n",
       "      <td>dogfood</td>\n",
       "    </tr>\n",
       "    <tr>\n",
       "      <th>20</th>\n",
       "      <td>576.483845</td>\n",
       "      <td>2018-01-08</td>\n",
       "      <td>dogfood</td>\n",
       "    </tr>\n",
       "    <tr>\n",
       "      <th>21</th>\n",
       "      <td>0.000000</td>\n",
       "      <td>2018-01-01</td>\n",
       "      <td>dogfood</td>\n",
       "    </tr>\n",
       "    <tr>\n",
       "      <th>22</th>\n",
       "      <td>0.000000</td>\n",
       "      <td>2017-12-25</td>\n",
       "      <td>dogfood</td>\n",
       "    </tr>\n",
       "    <tr>\n",
       "      <th>23</th>\n",
       "      <td>78.287793</td>\n",
       "      <td>2018-01-07</td>\n",
       "      <td>dogfood</td>\n",
       "    </tr>\n",
       "    <tr>\n",
       "      <th>24</th>\n",
       "      <td>181.748107</td>\n",
       "      <td>2017-12-24</td>\n",
       "      <td>dogfood</td>\n",
       "    </tr>\n",
       "  </tbody>\n",
       "</table>\n",
       "</div>"
      ],
      "text/plain": [
       "    sum(slothours)          sh   system\n",
       "0      2667.388178  2018-01-05  dogfood\n",
       "1       541.413670  2018-01-09  dogfood\n",
       "2      2288.782411  2018-01-06  dogfood\n",
       "3      2309.390251  2018-01-10  dogfood\n",
       "4       720.272636  2018-01-12  dogfood\n",
       "5         0.000000  2017-12-26  dogfood\n",
       "6         0.000000  2017-12-30  dogfood\n",
       "7      1312.483709  2018-01-02  dogfood\n",
       "8       718.717338  2017-12-21  dogfood\n",
       "9       739.656004  2018-01-13  dogfood\n",
       "10        0.000000  2017-12-31  dogfood\n",
       "11     2878.213640  2018-01-04  dogfood\n",
       "12      642.457092  2018-01-14  dogfood\n",
       "13        0.000000  2017-12-28  dogfood\n",
       "14        0.000000  2017-12-29  dogfood\n",
       "15      726.286912  2017-12-22  dogfood\n",
       "16     1150.219552  2018-01-11  dogfood\n",
       "17    20601.711466  2018-01-03  dogfood\n",
       "18        0.000000  2017-12-27  dogfood\n",
       "19      175.218173  2017-12-23  dogfood\n",
       "20      576.483845  2018-01-08  dogfood\n",
       "21        0.000000  2018-01-01  dogfood\n",
       "22        0.000000  2017-12-25  dogfood\n",
       "23       78.287793  2018-01-07  dogfood\n",
       "24      181.748107  2017-12-24  dogfood"
      ]
     },
     "execution_count": 6,
     "metadata": {},
     "output_type": "execute_result"
    }
   ],
   "source": [
    "%read_sql select sum(slothours), date as sh, system from job_fact where date>'2017-12-20' and system='dogfood' group by date,system"
   ]
  },
  {
   "cell_type": "code",
   "execution_count": 28,
   "metadata": {},
   "outputs": [
    {
     "data": {
      "text/plain": [
       "<matplotlib.axes._subplots.AxesSubplot at 0x7f707ca3a990>"
      ]
     },
     "execution_count": 28,
     "metadata": {},
     "output_type": "execute_result"
    },
    {
     "data": {
      "image/png": "[encoded data removed]",
      "text/plain": [
       "<matplotlib.figure.Figure at 0x7f707c88cf50>"
      ]
     },
     "metadata": {},
     "output_type": "display_data"
    }
   ],
   "source": [
    "%matplotlib inline\n",
    "df_fact.plot('date', 'sh', kind='line')"
   ]
  },
  {
   "cell_type": "code",
   "execution_count": null,
   "metadata": {
    "collapsed": true
   },
   "outputs": [],
   "source": []
  }
 ],
 "metadata": {
  "anaconda-cloud": {},
  "kernelspec": {
   "display_name": "Pyspark (2.1.1)",
   "language": "python",
   "name": "pyspark-2.1.1"
  },
  "language_info": {
   "codemirror_mode": {
    "name": "ipython",
    "version": 2
   },
   "file_extension": ".py",
   "mimetype": "text/x-python",
   "name": "python",
   "nbconvert_exporter": "python",
   "pygments_lexer": "ipython2",
   "version": "2.7.12"
  }
 },
 "nbformat": 4,
 "nbformat_minor": 2
}
