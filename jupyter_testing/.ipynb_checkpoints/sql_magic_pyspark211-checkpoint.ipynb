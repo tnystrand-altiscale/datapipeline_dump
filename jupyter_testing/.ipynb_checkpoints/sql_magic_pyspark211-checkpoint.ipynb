{
 "cells": [
  {
   "cell_type": "markdown",
   "metadata": {},
   "source": [
    "# To use sql_magic:\n",
    "* Must use spark version > 2.0.0 "
   ]
  },
  {
   "cell_type": "code",
   "execution_count": 1,
   "metadata": {
    "collapsed": true
   },
   "outputs": [],
   "source": [
    "import sys, os"
   ]
  },
  {
   "cell_type": "code",
   "execution_count": 2,
   "metadata": {
    "collapsed": false,
    "scrolled": true
   },
   "outputs": [
    {
     "name": "stdout",
     "output_type": "stream",
     "text": [
      "/opt/alti-spark-2.1.1\n",
      "/etc/alti-spark-2.1.1\n",
      "/opt/rh/python27/root/usr/bin/python\n",
      "/usr/bin/python\n",
      "\n",
      "<pyspark.sql.session.SparkSession object at 0x7f218ad63350>\n"
     ]
    }
   ],
   "source": [
    "!echo $SPARK_HOME\n",
    "!echo $SPARK_CONF_DIR\n",
    "!echo $PYSPARK_PYTHON\n",
    "!echo $PYSPARK_DRIVER_PYTHON\n",
    "!echo $PYSPARK_SUBMIT_ARGS\n",
    "\n",
    "print spark"
   ]
  },
  {
   "cell_type": "code",
   "execution_count": 9,
   "metadata": {
    "collapsed": false
   },
   "outputs": [
    {
     "name": "stdout",
     "output_type": "stream",
     "text": [
      "Query started at 03:34:36 PM UTC; Query executed in 4.08 m"
     ]
    }
   ],
   "source": [
    "# Print path to make sure we are in right place\n",
    "print sys.executable\n",
    "# Try to load sql_magic right away - early detect errors\n",
    "%load_ext sql_magic\n",
    "# Set the connection name\n",
    "%config SQL.conn_name = 'spark'"
   ]
  },
  {
   "cell_type": "code",
   "execution_count": 5,
   "metadata": {
    "collapsed": false
   },
   "outputs": [
    {
     "name": "stdout",
     "output_type": "stream",
     "text": [
      "Query started at 03:34:35 PM UTC; Query executed in 0.02 m"
     ]
    },
    {
     "data": {
      "text/plain": [
       "<sql_magic.exceptions.EmptyResult at 0x7f21778fd950>"
      ]
     },
     "execution_count": 5,
     "metadata": {},
     "output_type": "execute_result"
    }
   ],
   "source": [
    "%%read_sql\n",
    "use cluster_metrics_prod_2"
   ]
  },
  {
   "cell_type": "code",
   "execution_count": 6,
   "metadata": {
    "collapsed": false
   },
   "outputs": [
    {
     "name": "stdout",
     "output_type": "stream",
     "text": [
      "Query started at 03:34:36 PM UTC"
     ]
    }
   ],
   "source": [
    "%%read_sql -a df_burst\n",
    "select count(*) as counts, partition_date from burst_time_series_patchjoin where partition_date>'2017-09-01' group by partition_date"
   ]
  },
  {
   "cell_type": "code",
   "execution_count": 7,
   "metadata": {
    "collapsed": false
   },
   "outputs": [
    {
     "name": "stdout",
     "output_type": "stream",
     "text": [
      "Query started at 03:34:36 PM UTC; Query executed in 0.00 m"
     ]
    },
    {
     "data": {
      "text/html": [
       "<div>\n",
       "<style>\n",
       "    .dataframe thead tr:only-child th {\n",
       "        text-align: right;\n",
       "    }\n",
       "\n",
       "    .dataframe thead th {\n",
       "        text-align: left;\n",
       "    }\n",
       "\n",
       "    .dataframe tbody tr th {\n",
       "        vertical-align: top;\n",
       "    }\n",
       "</style>\n",
       "<table border=\"1\" class=\"dataframe\">\n",
       "  <thead>\n",
       "    <tr style=\"text-align: right;\">\n",
       "      <th></th>\n",
       "      <th>databaseName</th>\n",
       "    </tr>\n",
       "  </thead>\n",
       "  <tbody>\n",
       "    <tr>\n",
       "      <th>0</th>\n",
       "      <td>ae1634</td>\n",
       "    </tr>\n",
       "    <tr>\n",
       "      <th>1</th>\n",
       "      <td>alee_test</td>\n",
       "    </tr>\n",
       "    <tr>\n",
       "      <th>2</th>\n",
       "      <td>alti_bala</td>\n",
       "    </tr>\n",
       "    <tr>\n",
       "      <th>3</th>\n",
       "      <td>alti_demo</td>\n",
       "    </tr>\n",
       "    <tr>\n",
       "      <th>4</th>\n",
       "      <td>alti_maint_test</td>\n",
       "    </tr>\n",
       "    <tr>\n",
       "      <th>5</th>\n",
       "      <td>alti_reports</td>\n",
       "    </tr>\n",
       "    <tr>\n",
       "      <th>6</th>\n",
       "      <td>alti_sadhana</td>\n",
       "    </tr>\n",
       "    <tr>\n",
       "      <th>7</th>\n",
       "      <td>ara</td>\n",
       "    </tr>\n",
       "    <tr>\n",
       "      <th>8</th>\n",
       "      <td>as_adventure</td>\n",
       "    </tr>\n",
       "    <tr>\n",
       "      <th>9</th>\n",
       "      <td>atscale</td>\n",
       "    </tr>\n",
       "    <tr>\n",
       "      <th>10</th>\n",
       "      <td>bala_demo</td>\n",
       "    </tr>\n",
       "    <tr>\n",
       "      <th>11</th>\n",
       "      <td>chaiken</td>\n",
       "    </tr>\n",
       "    <tr>\n",
       "      <th>12</th>\n",
       "      <td>chutong</td>\n",
       "    </tr>\n",
       "    <tr>\n",
       "      <th>13</th>\n",
       "      <td>cluster_metrics_etl_dev_1_0</td>\n",
       "    </tr>\n",
       "    <tr>\n",
       "      <th>14</th>\n",
       "      <td>cluster_metrics_prod_1</td>\n",
       "    </tr>\n",
       "    <tr>\n",
       "      <th>15</th>\n",
       "      <td>cluster_metrics_prod_1_0</td>\n",
       "    </tr>\n",
       "    <tr>\n",
       "      <th>16</th>\n",
       "      <td>cluster_metrics_prod_1_deprecated</td>\n",
       "    </tr>\n",
       "    <tr>\n",
       "      <th>17</th>\n",
       "      <td>cluster_metrics_prod_2</td>\n",
       "    </tr>\n",
       "    <tr>\n",
       "      <th>18</th>\n",
       "      <td>coeffstack_cricketmodelingv2_dev_cricket_v5</td>\n",
       "    </tr>\n",
       "    <tr>\n",
       "      <th>19</th>\n",
       "      <td>cos</td>\n",
       "    </tr>\n",
       "    <tr>\n",
       "      <th>20</th>\n",
       "      <td>customer</td>\n",
       "    </tr>\n",
       "    <tr>\n",
       "      <th>21</th>\n",
       "      <td>cwimmer</td>\n",
       "    </tr>\n",
       "    <tr>\n",
       "      <th>22</th>\n",
       "      <td>db1</td>\n",
       "    </tr>\n",
       "    <tr>\n",
       "      <th>23</th>\n",
       "      <td>db2</td>\n",
       "    </tr>\n",
       "    <tr>\n",
       "      <th>24</th>\n",
       "      <td>default</td>\n",
       "    </tr>\n",
       "    <tr>\n",
       "      <th>25</th>\n",
       "      <td>demo2</td>\n",
       "    </tr>\n",
       "    <tr>\n",
       "      <th>26</th>\n",
       "      <td>demodb</td>\n",
       "    </tr>\n",
       "    <tr>\n",
       "      <th>27</th>\n",
       "      <td>dp_date_time</td>\n",
       "    </tr>\n",
       "    <tr>\n",
       "      <th>28</th>\n",
       "      <td>dp_derived</td>\n",
       "    </tr>\n",
       "    <tr>\n",
       "      <th>29</th>\n",
       "      <td>dp_move_partition_test</td>\n",
       "    </tr>\n",
       "    <tr>\n",
       "      <th>...</th>\n",
       "      <td>...</td>\n",
       "    </tr>\n",
       "    <tr>\n",
       "      <th>98</th>\n",
       "      <td>tmp_dc9f360a_7db3_46c6_bbe7_5d1fc53e830b</td>\n",
       "    </tr>\n",
       "    <tr>\n",
       "      <th>99</th>\n",
       "      <td>tmp_f057c6d2_51ca_4e1b_a09b_da1b98f1a722</td>\n",
       "    </tr>\n",
       "    <tr>\n",
       "      <th>100</th>\n",
       "      <td>tmp_testbucket</td>\n",
       "    </tr>\n",
       "    <tr>\n",
       "      <th>101</th>\n",
       "      <td>tnystrand_cluster_metrics_prod_2</td>\n",
       "    </tr>\n",
       "    <tr>\n",
       "      <th>102</th>\n",
       "      <td>tnystrand_logarchive_prod_2</td>\n",
       "    </tr>\n",
       "    <tr>\n",
       "      <th>103</th>\n",
       "      <td>tnystrand_metrics_archive</td>\n",
       "    </tr>\n",
       "    <tr>\n",
       "      <th>104</th>\n",
       "      <td>tpcds24_text_5</td>\n",
       "    </tr>\n",
       "    <tr>\n",
       "      <th>105</th>\n",
       "      <td>tpcds_bin_partitioned_orc_10</td>\n",
       "    </tr>\n",
       "    <tr>\n",
       "      <th>106</th>\n",
       "      <td>tpcds_bin_partitioned_orc_2</td>\n",
       "    </tr>\n",
       "    <tr>\n",
       "      <th>107</th>\n",
       "      <td>tpcds_bin_partitioned_orc_5</td>\n",
       "    </tr>\n",
       "    <tr>\n",
       "      <th>108</th>\n",
       "      <td>tpcds_bin_partitioned_parquet_10</td>\n",
       "    </tr>\n",
       "    <tr>\n",
       "      <th>109</th>\n",
       "      <td>tpcds_bin_partitioned_parquet_1000</td>\n",
       "    </tr>\n",
       "    <tr>\n",
       "      <th>110</th>\n",
       "      <td>tpcds_bin_partitioned_parquet_5</td>\n",
       "    </tr>\n",
       "    <tr>\n",
       "      <th>111</th>\n",
       "      <td>tpcds_text_10</td>\n",
       "    </tr>\n",
       "    <tr>\n",
       "      <th>112</th>\n",
       "      <td>tpcds_text_1000</td>\n",
       "    </tr>\n",
       "    <tr>\n",
       "      <th>113</th>\n",
       "      <td>tpcds_text_2</td>\n",
       "    </tr>\n",
       "    <tr>\n",
       "      <th>114</th>\n",
       "      <td>tpcds_text_5</td>\n",
       "    </tr>\n",
       "    <tr>\n",
       "      <th>115</th>\n",
       "      <td>tpch_1tb</td>\n",
       "    </tr>\n",
       "    <tr>\n",
       "      <th>116</th>\n",
       "      <td>travis</td>\n",
       "    </tr>\n",
       "    <tr>\n",
       "      <th>117</th>\n",
       "      <td>visiblemeasures_data</td>\n",
       "    </tr>\n",
       "    <tr>\n",
       "      <th>118</th>\n",
       "      <td>ziff_cluster_metrics_dev_2</td>\n",
       "    </tr>\n",
       "    <tr>\n",
       "      <th>119</th>\n",
       "      <td>ziff_dev_0_5_hdfs_audit_events</td>\n",
       "    </tr>\n",
       "    <tr>\n",
       "      <th>120</th>\n",
       "      <td>ziff_dev_0_5_resourcemanager_events</td>\n",
       "    </tr>\n",
       "    <tr>\n",
       "      <th>121</th>\n",
       "      <td>ziff_logarchive_dev_0_5</td>\n",
       "    </tr>\n",
       "    <tr>\n",
       "      <th>122</th>\n",
       "      <td>ziff_logarchive_dev_2</td>\n",
       "    </tr>\n",
       "    <tr>\n",
       "      <th>123</th>\n",
       "      <td>ziff_logarchive_maxtest1_0_0</td>\n",
       "    </tr>\n",
       "    <tr>\n",
       "      <th>124</th>\n",
       "      <td>ziff_logarchive_maxtest2_0_0</td>\n",
       "    </tr>\n",
       "    <tr>\n",
       "      <th>125</th>\n",
       "      <td>ziff_move_partition_test</td>\n",
       "    </tr>\n",
       "    <tr>\n",
       "      <th>126</th>\n",
       "      <td>ziff_scratch</td>\n",
       "    </tr>\n",
       "    <tr>\n",
       "      <th>127</th>\n",
       "      <td>ziff_tmp_1</td>\n",
       "    </tr>\n",
       "  </tbody>\n",
       "</table>\n",
       "<p>128 rows × 1 columns</p>\n",
       "</div>"
      ],
      "text/plain": [
       "                                    databaseName\n",
       "0                                         ae1634\n",
       "1                                      alee_test\n",
       "2                                      alti_bala\n",
       "3                                      alti_demo\n",
       "4                                alti_maint_test\n",
       "5                                   alti_reports\n",
       "6                                   alti_sadhana\n",
       "7                                            ara\n",
       "8                                   as_adventure\n",
       "9                                        atscale\n",
       "10                                     bala_demo\n",
       "11                                       chaiken\n",
       "12                                       chutong\n",
       "13                   cluster_metrics_etl_dev_1_0\n",
       "14                        cluster_metrics_prod_1\n",
       "15                      cluster_metrics_prod_1_0\n",
       "16             cluster_metrics_prod_1_deprecated\n",
       "17                        cluster_metrics_prod_2\n",
       "18   coeffstack_cricketmodelingv2_dev_cricket_v5\n",
       "19                                           cos\n",
       "20                                      customer\n",
       "21                                       cwimmer\n",
       "22                                           db1\n",
       "23                                           db2\n",
       "24                                       default\n",
       "25                                         demo2\n",
       "26                                        demodb\n",
       "27                                  dp_date_time\n",
       "28                                    dp_derived\n",
       "29                        dp_move_partition_test\n",
       "..                                           ...\n",
       "98      tmp_dc9f360a_7db3_46c6_bbe7_5d1fc53e830b\n",
       "99      tmp_f057c6d2_51ca_4e1b_a09b_da1b98f1a722\n",
       "100                               tmp_testbucket\n",
       "101             tnystrand_cluster_metrics_prod_2\n",
       "102                  tnystrand_logarchive_prod_2\n",
       "103                    tnystrand_metrics_archive\n",
       "104                               tpcds24_text_5\n",
       "105                 tpcds_bin_partitioned_orc_10\n",
       "106                  tpcds_bin_partitioned_orc_2\n",
       "107                  tpcds_bin_partitioned_orc_5\n",
       "108             tpcds_bin_partitioned_parquet_10\n",
       "109           tpcds_bin_partitioned_parquet_1000\n",
       "110              tpcds_bin_partitioned_parquet_5\n",
       "111                                tpcds_text_10\n",
       "112                              tpcds_text_1000\n",
       "113                                 tpcds_text_2\n",
       "114                                 tpcds_text_5\n",
       "115                                     tpch_1tb\n",
       "116                                       travis\n",
       "117                         visiblemeasures_data\n",
       "118                   ziff_cluster_metrics_dev_2\n",
       "119               ziff_dev_0_5_hdfs_audit_events\n",
       "120          ziff_dev_0_5_resourcemanager_events\n",
       "121                      ziff_logarchive_dev_0_5\n",
       "122                        ziff_logarchive_dev_2\n",
       "123                 ziff_logarchive_maxtest1_0_0\n",
       "124                 ziff_logarchive_maxtest2_0_0\n",
       "125                     ziff_move_partition_test\n",
       "126                                 ziff_scratch\n",
       "127                                   ziff_tmp_1\n",
       "\n",
       "[128 rows x 1 columns]"
      ]
     },
     "execution_count": 7,
     "metadata": {},
     "output_type": "execute_result"
    }
   ],
   "source": [
    "%read_sql show databases"
   ]
  },
  {
   "cell_type": "code",
   "execution_count": 10,
   "metadata": {
    "collapsed": false
   },
   "outputs": [
    {
     "data": {
      "text/plain": [
       "<matplotlib.axes._subplots.AxesSubplot at 0x7f2174908f50>"
      ]
     },
     "execution_count": 10,
     "metadata": {},
     "output_type": "execute_result"
    },
    {
     "data": {
      "image/png": "[encoded data removed]",
      "text/plain": [
       "<matplotlib.figure.Figure at 0x7f2174908690>"
      ]
     },
     "metadata": {},
     "output_type": "display_data"
    }
   ],
   "source": [
    "%matplotlib inline\n",
    "df_burst.plot('partition_date', 'counts', kind='line')"
   ]
  },
  {
   "cell_type": "code",
   "execution_count": null,
   "metadata": {
    "collapsed": true
   },
   "outputs": [],
   "source": []
  }
 ],
 "metadata": {
  "anaconda-cloud": {},
  "kernelspec": {
   "display_name": "Pyspark (2.1.1)",
   "language": "python",
   "name": "pyspark-2.1.1"
  },
  "language_info": {
   "codemirror_mode": {
    "name": "ipython",
    "version": 2
   },
   "file_extension": ".py",
   "mimetype": "text/x-python",
   "name": "python",
   "nbconvert_exporter": "python",
   "pygments_lexer": "ipython2",
   "version": "2.7.12"
  }
 },
 "nbformat": 4,
 "nbformat_minor": 2
}
