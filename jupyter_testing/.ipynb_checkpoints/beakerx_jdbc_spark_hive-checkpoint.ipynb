{
 "cells": [
  {
   "cell_type": "code",
   "execution_count": 2,
   "metadata": {},
   "outputs": [
    {
     "name": "stdout",
     "output_type": "stream",
     "text": [
      "Added jar: [hadoop-common-2.7.4.jar]\n"
     ]
    }
   ],
   "source": [
    "%classpath add jar /opt/hadoop/share/hadoop/httpfs/tomcat/webapps/webhdfs/WEB-INF/lib/hadoop-common-2.7.4.jar"
   ]
  },
  {
   "cell_type": "markdown",
   "metadata": {},
   "source": [
    "# hive 2.1.1"
   ]
  },
  {
   "cell_type": "code",
   "execution_count": 2,
   "metadata": {},
   "outputs": [
    {
     "name": "stdout",
     "output_type": "stream",
     "text": [
      "Added jars: [ivy-2.4.0.jar, hive-common-2.1.1.jar, hive-testutils-2.1.1.jar, joda-time-2.5.jar, parquet-hadoop-bundle-1.8.1.jar, super-csv-2.2.0.jar, eigenbase-properties-1.1.5.jar, maven-scm-provider-svn-commons-1.4.jar, httpcore-4.4.jar, commons-io-2.4.jar, log4j-api-2.4.1.jar, jdo-api-3.0.1.jar, zookeeper-3.4.6.jar, commons-lang3-3.1.jar, geronimo-jta_1.1_spec-1.1.1.jar, antlr4-runtime-4.5.jar, javax.servlet-3.0.0.v201112011016.jar, asm-commons-3.1.jar, guice-assistedinject-3.0.jar, twill-zookeeper-0.6.0-incubating.jar, log4j-core-2.4.1.jar, commons-logging-1.2.jar, jsp-api-2.0.jar, org.abego.treelayout.core-1.0.1.jar, maven-scm-provider-svnexe-1.4.jar, hbase-common-1.1.1-tests.jar, tephra-api-0.6.0.jar, jsr305-3.0.0.jar, hive-llap-ext-client-2.1.1.jar, ant-1.9.1.jar, hive-contrib-2.1.1.jar, htrace-core-3.1.0-incubating.jar, curator-framework-2.6.0.jar, velocity-1.5.jar, stringtemplate-3.2.1.jar, geronimo-jaspic_1.0_spec-1.0.jar, opencsv-2.3.jar, metrics-core-2.2.0.jar, libfb303-0.9.3.jar, curator-recipes-2.6.0.jar, jsp-api-2.1-6.1.14.jar, hive-llap-client-2.1.1.jar, aopalliance-1.0.jar, hive-service-2.1.1.jar, commons-codec-1.4.jar, slider-core-0.90.2-incubating.jar, asm-tree-3.1.jar, commons-cli-1.2.jar, protobuf-java-2.5.0.jar, jersey-client-1.9.jar, httpclient-4.4.jar, hive-metastore-2.1.1.jar, commons-compiler-2.7.6.jar, ant-launcher-1.9.1.jar, tephra-core-0.6.0.jar, guice-3.0.jar, hive-beeline-2.1.1.jar, gson-2.2.4.jar, findbugs-annotations-1.3.9-1.jar, commons-math-2.2.jar, twill-api-0.6.0-incubating.jar, jcodings-1.0.8.jar, log4j-1.2-api-2.4.1.jar, tephra-hbase-compat-1.0-0.6.0.jar, javolution-5.5.1.jar, hive-jdbc-2.1.1.jar, fastutil-6.5.6.jar, hive-hplsql-2.1.1.jar, jersey-server-1.14.jar, jetty-util-6.1.26.jar, joni-2.1.2.jar, hamcrest-core-1.3.jar, asm-3.1.jar, hive-shims-common-2.1.1.jar, commons-httpclient-3.0.1.jar, accumulo-trace-1.6.0.jar, guava-14.0.1.jar, jetty-all-7.6.0.v20120127.jar, calcite-linq4j-1.6.0.jar, jackson-jaxrs-1.9.2.jar, jackson-databind-2.4.2.jar, accumulo-start-1.6.0.jar, jsp-api-2.1.jar, hbase-annotations-1.1.1.jar, paranamer-2.3.jar, hive-orc-2.1.1.jar, jetty-6.1.26.jar, jline-2.12.jar, hive-shims-scheduler-2.1.1.jar, jackson-core-2.4.2.jar, servlet-api-2.4.jar, hive-exec-2.1.1.jar, hbase-client-1.1.1.jar, hive-accumulo-handler-2.1.1.jar, libthrift-0.9.3.jar, antlr-runtime-3.4.jar, ant-1.6.5.jar, hbase-prefix-tree-1.1.1.jar, accumulo-core-1.6.0.jar, plexus-utils-1.5.6.jar, activation-1.1.jar, twill-common-0.6.0-incubating.jar, disruptor-3.3.0.jar, regexp-1.3.jar, twill-discovery-api-0.6.0-incubating.jar, hive-shims-0.23-2.1.1.jar, jetty-all-server-7.6.0.v20120127.jar, hbase-server-1.1.1.jar, junit-4.11.jar, hive-ant-2.1.1.jar, hive-llap-tez-2.1.1.jar, commons-pool-1.5.4.jar, maven-scm-api-1.4.jar, hive-llap-server-2.1.1.jar, jsp-2.1-6.1.14.jar, commons-vfs2-2.0.jar, curator-client-2.6.0.jar, guice-servlet-3.0.jar, jasper-compiler-5.5.23.jar, netty-3.7.0.Final.jar, commons-collections-3.2.2.jar, antlr-2.7.7.jar, jta-1.1.jar, stax-api-1.0.1.jar, hive-llap-common-2.1.1.jar, jasper-runtime-5.5.23.jar, groovy-all-2.4.4.jar, datanucleus-api-jdo-4.2.1.jar, avro-1.7.7.jar, hive-hbase-handler-2.1.1.jar, jackson-xc-1.9.2.jar, datanucleus-core-4.1.6.jar, metrics-json-3.1.0.jar, hbase-hadoop-compat-1.1.1.jar, snappy-0.2.jar, netty-all-4.0.23.Final.jar, transaction-api-1.1.jar, twill-core-0.6.0-incubating.jar, hbase-procedure-1.1.1.jar, calcite-core-1.6.0.jar, jamon-runtime-2.3.1.jar, hive-serde-2.1.1.jar, hbase-hadoop2-compat-1.1.1.jar, metrics-core-3.1.0.jar, snappy-java-1.0.5.jar, hbase-common-1.1.1.jar, commons-dbcp-1.4.jar, hive-shims-2.1.1.jar, hive-cli-2.1.1.jar, commons-lang-2.6.jar, jackson-annotations-2.4.0.jar, commons-el-1.0.jar, jetty-sslengine-6.1.26.jar, twill-discovery-core-0.6.0-incubating.jar, ST4-4.0.4.jar, hive-storage-api-2.1.1.jar, hive-hwi-2.1.1.jar, servlet-api-2.5-6.1.14.jar, datanucleus-rdbms-4.1.7.jar, hbase-hadoop2-compat-1.1.1-tests.jar, derby-10.10.2.0.jar, javax.inject-1.jar, commons-compress-1.9.jar, log4j-web-2.4.1.jar, tempus-fugit-1.1.jar, mail-1.4.1.jar, calcite-avatica-1.6.0.jar, hbase-protocol-1.1.1.jar, bonecp-0.8.0.RELEASE.jar, json-20090211.jar, geronimo-annotation_1.0_spec-1.1.1.jar, accumulo-fate-1.6.0.jar, javax.jdo-3.2.0-m3.jar, jpam-1.1.jar, dropwizard-metrics-hadoop-metrics2-reporter-0.1.2.jar, janino-2.7.6.jar, metrics-jvm-3.1.0.jar, hive-service-rpc-2.1.1.jar, log4j-slf4j-impl-2.4.1.jar, pentaho-aggdesigner-algorithm-5.1.5-jhyde.jar, jcommander-1.32.jar]\n"
     ]
    },
    {
     "ename": "java.sql.SQLException",
     "evalue": " Method not supported",
     "output_type": "error",
     "text": "java.sql.SQLException: Method not supported",
     "traceback": [
      "\u001b[0;31mjava.sql.SQLException: Method not supported"
     ]
    }
   ],
   "source": [
    "%classpath add jar /opt/hive-2.1.1/lib/*\n",
    "%defaultDatasource jdbc:hive2://hiveserver-dogfood.s3s.altiscale.com:20000/default;user=tnystrand\n",
    "show databases"
   ]
  },
  {
   "cell_type": "markdown",
   "metadata": {},
   "source": [
    "# spark thrift 1.6"
   ]
  },
  {
   "cell_type": "code",
   "execution_count": 1,
   "metadata": {},
   "outputs": [
    {
     "name": "stdout",
     "output_type": "stream",
     "text": [
      "Added jars: [hive-contrib-1.2.1.jar, curator-recipes-2.6.0.jar, accumulo-trace-1.6.0.jar, hive-shims-common-1.2.1.jar, tempus-fugit-1.1.jar, hive-cli-1.2.1.jar, hive-accumulo-handler-1.2.1.jar, xz-1.0.jar, ant-launcher-1.9.1.jar, commons-codec-1.4.jar, avro-1.7.5.jar, guava-14.0.1.jar, curator-client-2.6.0.jar, geronimo-jaspic_1.0_spec-1.0.jar, commons-httpclient-3.0.1.jar, paranamer-2.3.jar, jetty-all-server-7.6.0.v20120127.jar, asm-tree-3.1.jar, jpam-1.1.jar, ivy-2.4.0.jar, commons-beanutils-core-1.8.0.jar, groovy-all-2.1.6.jar, servlet-api-2.5.jar, commons-configuration-1.6.jar, hive-jdbc-1.2.1-standalone.jar, log4j-1.2.16.jar, jcommander-1.32.jar, libthrift-0.9.2.jar, jline-2.12.jar, curator-framework-2.6.0.jar, datanucleus-rdbms-3.2.9.jar, zookeeper-3.4.6.jar, super-csv-2.2.0.jar, commons-compress-1.4.1.jar, hive-exec-1.2.1.jar, asm-commons-3.1.jar, jetty-all-7.6.0.v20120127.jar, hive-hbase-handler-1.2.1.jar, regexp-1.3.jar, maven-scm-api-1.4.jar, geronimo-annotation_1.0_spec-1.1.1.jar, hive-service-1.2.1.jar, libfb303-0.9.2.jar, jta-1.1.jar, hive-shims-0.20S-1.2.1.jar, snappy-java-1.0.5.jar, commons-io-2.4.jar, hive-beeline-1.2.1.jar, stax-api-1.0.1.jar, hive-testutils-1.2.1.jar, hive-shims-0.23-1.2.1.jar, hive-jdbc-1.2.1.jar, hive-metastore-1.2.1.jar, accumulo-fate-1.6.0.jar, commons-cli-1.2.jar, commons-digester-1.8.jar, velocity-1.5.jar, janino-2.7.6.jar, commons-collections-3.2.1.jar, httpcore-4.4.jar, netty-3.7.0.Final.jar, hive-common-1.2.1.jar, httpclient-4.4.jar, hive-hwi-1.2.1.jar, eigenbase-properties-1.1.5.jar, calcite-avatica-1.2.0-incubating.jar, bonecp-0.8.0.RELEASE.jar, derby-10.10.2.0.jar, mail-1.4.1.jar, commons-dbcp-1.4.jar, joda-time-2.5.jar, antlr-runtime-3.4.jar, datanucleus-api-jdo-3.2.6.jar, mysql-connector-java-5.1.23-bin.jar, jsr305-3.0.0.jar, ST4-4.0.4.jar, accumulo-core-1.6.0.jar, commons-beanutils-1.7.0.jar, maven-scm-provider-svnexe-1.4.jar, parquet-hadoop-bundle-1.6.0.jar, commons-logging-1.1.3.jar, activation-1.1.jar, commons-vfs2-2.0.jar, json-20090211.jar, pentaho-aggdesigner-algorithm-5.1.5-jhyde.jar, accumulo-start-1.6.0.jar, plexus-utils-1.5.6.jar, junit-4.11.jar, commons-pool-1.5.4.jar, hive-ant-1.2.1.jar, datanucleus-core-3.2.10.jar, hamcrest-core-1.1.jar, hive-shims-scheduler-1.2.1.jar, apache-log4j-extras-1.2.17.jar, hive-shims-1.2.1.jar, hive-serde-1.2.1.jar, stringtemplate-3.2.1.jar, jdo-api-3.0.1.jar, geronimo-jta_1.1_spec-1.1.1.jar, commons-math-2.1.jar, commons-compiler-2.7.6.jar, ant-1.9.1.jar, antlr-2.7.7.jar, oro-2.0.8.jar, calcite-core-1.2.0-incubating.jar, maven-scm-provider-svn-commons-1.4.jar, commons-lang-2.6.jar, opencsv-2.3.jar, calcite-linq4j-1.2.0-incubating.jar]\n"
     ]
    },
    {
     "ename": "java.lang.NoClassDefFoundError",
     "evalue": " org/apache/hadoop/conf/Configuration",
     "output_type": "error",
     "text": "java.lang.NoClassDefFoundError: org/apache/hadoop/conf/Configuration",
     "traceback": [
      "\u001b[0;31mjava.lang.NoClassDefFoundError: org/apache/hadoop/conf/Configuration"
     ]
    }
   ],
   "source": [
    "%classpath add jar /opt/hive-1.2.1/lib/*\n",
    "%defaultDatasource jdbc:hive2://desktop2-dogfood.service.altiscale.com:28150/default;user=tnystrand\n",
    "show databases"
   ]
  },
  {
   "cell_type": "markdown",
   "metadata": {},
   "source": [
    "# hive 1.2.1"
   ]
  },
  {
   "cell_type": "code",
   "execution_count": 3,
   "metadata": {},
   "outputs": [
    {
     "ename": "java.sql.SQLException",
     "evalue": " Method not supported",
     "output_type": "error",
     "text": "java.sql.SQLException: Method not supported",
     "traceback": [
      "\u001b[0;31mjava.sql.SQLException: Method not supported"
     ]
    }
   ],
   "source": [
    "%classpath add jar /opt/hive-1.2.1/lib/*\n",
    "%defaultDatasource jdbc:hive2://hiveserver-dogfood.s3s.altiscale.com:10000/default;user=tnystrand\n",
    "show databases"
   ]
  },
  {
   "cell_type": "markdown",
   "metadata": {},
   "source": [
    "# hive 1.2.1 - no user"
   ]
  },
  {
   "cell_type": "code",
   "execution_count": 4,
   "metadata": {},
   "outputs": [
    {
     "name": "stdout",
     "output_type": "stream",
     "text": [
      "Added jars: [hive-contrib-1.2.1.jar, curator-recipes-2.6.0.jar, accumulo-trace-1.6.0.jar, hive-shims-common-1.2.1.jar, tempus-fugit-1.1.jar, hive-cli-1.2.1.jar, hive-accumulo-handler-1.2.1.jar, xz-1.0.jar, ant-launcher-1.9.1.jar, commons-codec-1.4.jar, avro-1.7.5.jar, guava-14.0.1.jar, curator-client-2.6.0.jar, geronimo-jaspic_1.0_spec-1.0.jar, commons-httpclient-3.0.1.jar, paranamer-2.3.jar, jetty-all-server-7.6.0.v20120127.jar, asm-tree-3.1.jar, jpam-1.1.jar, ivy-2.4.0.jar, commons-beanutils-core-1.8.0.jar, groovy-all-2.1.6.jar, servlet-api-2.5.jar, commons-configuration-1.6.jar, hive-jdbc-1.2.1-standalone.jar, log4j-1.2.16.jar, jcommander-1.32.jar, libthrift-0.9.2.jar, jline-2.12.jar, curator-framework-2.6.0.jar, datanucleus-rdbms-3.2.9.jar, zookeeper-3.4.6.jar, super-csv-2.2.0.jar, commons-compress-1.4.1.jar, hive-exec-1.2.1.jar, asm-commons-3.1.jar, jetty-all-7.6.0.v20120127.jar, hive-hbase-handler-1.2.1.jar, regexp-1.3.jar, maven-scm-api-1.4.jar, geronimo-annotation_1.0_spec-1.1.1.jar, hive-service-1.2.1.jar, libfb303-0.9.2.jar, jta-1.1.jar, hive-shims-0.20S-1.2.1.jar, snappy-java-1.0.5.jar, commons-io-2.4.jar, hive-beeline-1.2.1.jar, stax-api-1.0.1.jar, hive-testutils-1.2.1.jar, hive-shims-0.23-1.2.1.jar, hive-jdbc-1.2.1.jar, hive-metastore-1.2.1.jar, accumulo-fate-1.6.0.jar, commons-cli-1.2.jar, commons-digester-1.8.jar, velocity-1.5.jar, janino-2.7.6.jar, commons-collections-3.2.1.jar, httpcore-4.4.jar, netty-3.7.0.Final.jar, hive-common-1.2.1.jar, httpclient-4.4.jar, hive-hwi-1.2.1.jar, eigenbase-properties-1.1.5.jar, calcite-avatica-1.2.0-incubating.jar, bonecp-0.8.0.RELEASE.jar, derby-10.10.2.0.jar, mail-1.4.1.jar, commons-dbcp-1.4.jar, joda-time-2.5.jar, antlr-runtime-3.4.jar, datanucleus-api-jdo-3.2.6.jar, mysql-connector-java-5.1.23-bin.jar, jsr305-3.0.0.jar, ST4-4.0.4.jar, accumulo-core-1.6.0.jar, commons-beanutils-1.7.0.jar, maven-scm-provider-svnexe-1.4.jar, parquet-hadoop-bundle-1.6.0.jar, commons-logging-1.1.3.jar, activation-1.1.jar, commons-vfs2-2.0.jar, json-20090211.jar, pentaho-aggdesigner-algorithm-5.1.5-jhyde.jar, accumulo-start-1.6.0.jar, plexus-utils-1.5.6.jar, junit-4.11.jar, commons-pool-1.5.4.jar, hive-ant-1.2.1.jar, datanucleus-core-3.2.10.jar, hamcrest-core-1.1.jar, hive-shims-scheduler-1.2.1.jar, apache-log4j-extras-1.2.17.jar, hive-shims-1.2.1.jar, hive-serde-1.2.1.jar, stringtemplate-3.2.1.jar, jdo-api-3.0.1.jar, geronimo-jta_1.1_spec-1.1.1.jar, commons-math-2.1.jar, commons-compiler-2.7.6.jar, ant-1.9.1.jar, antlr-2.7.7.jar, oro-2.0.8.jar, calcite-core-1.2.0-incubating.jar, maven-scm-provider-svn-commons-1.4.jar, commons-lang-2.6.jar, opencsv-2.3.jar, calcite-linq4j-1.2.0-incubating.jar]\n"
     ]
    },
    {
     "ename": "java.sql.SQLException",
     "evalue": " Cannot create PoolableConnectionFactory (Method not supported)",
     "output_type": "error",
     "text": "java.sql.SQLException: Cannot create PoolableConnectionFactory (Method not supported)",
     "traceback": [
      "\u001b[0;31mjava.sql.SQLException: Cannot create PoolableConnectionFactory (Method not supported)"
     ]
    }
   ],
   "source": [
    "%classpath add jar /opt/hive-1.2.1/lib/*\n",
    "%defaultDatasource jdbc:hive2://hiveserver-dogfood.s3s.altiscale.com:10000\n",
    "show databases"
   ]
  },
  {
   "cell_type": "markdown",
   "metadata": {},
   "source": [
    "# hive 2.2.0 - isql1"
   ]
  },
  {
   "cell_type": "code",
   "execution_count": 3,
   "metadata": {},
   "outputs": [
    {
     "ename": "java.sql.SQLException",
     "evalue": " Could not open client transport with JDBC Uri",
     "output_type": "error",
     "text": "java.sql.SQLException: Could not open client transport with JDBC Uri: jdbc:hive2://hiveserver-isql1.test.altiscale.com:35000/default;: java.net.ConnectException: Connection refused (Connection refused)",
     "traceback": [
      "\u001b[0;31mjava.sql.SQLException: Could not open client transport with JDBC Uri: jdbc:hive2://hiveserver-isql1.test.altiscale.com:35000/default;: java.net.ConnectException: Connection refused (Connection refused)"
     ]
    }
   ],
   "source": [
    "%classpath add jar /home/tnystrand/semi_serious/jupyter_testing/apache-hive-2.2.0-bin/lib/*\n",
    "%defaultDatasource jdbc:hive2://hiveserver-isql1.test.altiscale.com:35000/default;user=tnystrand\n",
    "show databases"
   ]
  },
  {
   "cell_type": "markdown",
   "metadata": {},
   "source": [
    "# hive 1.2.1 - desktop"
   ]
  },
  {
   "cell_type": "code",
   "execution_count": 2,
   "metadata": {},
   "outputs": [
    {
     "name": "stdout",
     "output_type": "stream",
     "text": [
      "Added jars: [hive-contrib-1.2.1.jar, curator-recipes-2.6.0.jar, accumulo-trace-1.6.0.jar, hive-shims-common-1.2.1.jar, tempus-fugit-1.1.jar, hive-cli-1.2.1.jar, hive-accumulo-handler-1.2.1.jar, xz-1.0.jar, ant-launcher-1.9.1.jar, commons-codec-1.4.jar, avro-1.7.5.jar, guava-14.0.1.jar, curator-client-2.6.0.jar, geronimo-jaspic_1.0_spec-1.0.jar, commons-httpclient-3.0.1.jar, paranamer-2.3.jar, jetty-all-server-7.6.0.v20120127.jar, asm-tree-3.1.jar, jpam-1.1.jar, ivy-2.4.0.jar, commons-beanutils-core-1.8.0.jar, groovy-all-2.1.6.jar, servlet-api-2.5.jar, commons-configuration-1.6.jar, hive-jdbc-1.2.1-standalone.jar, log4j-1.2.16.jar, jcommander-1.32.jar, libthrift-0.9.2.jar, jline-2.12.jar, curator-framework-2.6.0.jar, datanucleus-rdbms-3.2.9.jar, zookeeper-3.4.6.jar, super-csv-2.2.0.jar, commons-compress-1.4.1.jar, hive-exec-1.2.1.jar, asm-commons-3.1.jar, jetty-all-7.6.0.v20120127.jar, hive-hbase-handler-1.2.1.jar, regexp-1.3.jar, maven-scm-api-1.4.jar, geronimo-annotation_1.0_spec-1.1.1.jar, hive-service-1.2.1.jar, libfb303-0.9.2.jar, jta-1.1.jar, hive-shims-0.20S-1.2.1.jar, snappy-java-1.0.5.jar, commons-io-2.4.jar, hive-beeline-1.2.1.jar, stax-api-1.0.1.jar, hive-testutils-1.2.1.jar, hive-shims-0.23-1.2.1.jar, hive-jdbc-1.2.1.jar, hive-metastore-1.2.1.jar, accumulo-fate-1.6.0.jar, commons-cli-1.2.jar, commons-digester-1.8.jar, velocity-1.5.jar, janino-2.7.6.jar, commons-collections-3.2.1.jar, httpcore-4.4.jar, netty-3.7.0.Final.jar, hive-common-1.2.1.jar, httpclient-4.4.jar, hive-hwi-1.2.1.jar, eigenbase-properties-1.1.5.jar, calcite-avatica-1.2.0-incubating.jar, bonecp-0.8.0.RELEASE.jar, derby-10.10.2.0.jar, mail-1.4.1.jar, commons-dbcp-1.4.jar, joda-time-2.5.jar, antlr-runtime-3.4.jar, datanucleus-api-jdo-3.2.6.jar, mysql-connector-java-5.1.23-bin.jar, jsr305-3.0.0.jar, ST4-4.0.4.jar, accumulo-core-1.6.0.jar, commons-beanutils-1.7.0.jar, maven-scm-provider-svnexe-1.4.jar, parquet-hadoop-bundle-1.6.0.jar, commons-logging-1.1.3.jar, activation-1.1.jar, commons-vfs2-2.0.jar, json-20090211.jar, pentaho-aggdesigner-algorithm-5.1.5-jhyde.jar, accumulo-start-1.6.0.jar, plexus-utils-1.5.6.jar, junit-4.11.jar, commons-pool-1.5.4.jar, hive-ant-1.2.1.jar, datanucleus-core-3.2.10.jar, hamcrest-core-1.1.jar, hive-shims-scheduler-1.2.1.jar, apache-log4j-extras-1.2.17.jar, hive-shims-1.2.1.jar, hive-serde-1.2.1.jar, stringtemplate-3.2.1.jar, jdo-api-3.0.1.jar, geronimo-jta_1.1_spec-1.1.1.jar, commons-math-2.1.jar, commons-compiler-2.7.6.jar, ant-1.9.1.jar, antlr-2.7.7.jar, oro-2.0.8.jar, calcite-core-1.2.0-incubating.jar, maven-scm-provider-svn-commons-1.4.jar, commons-lang-2.6.jar, opencsv-2.3.jar, calcite-linq4j-1.2.0-incubating.jar]\n"
     ]
    },
    {
     "ename": "java.sql.SQLException",
     "evalue": " Method not supported",
     "output_type": "error",
     "text": "java.sql.SQLException: Method not supported",
     "traceback": [
      "\u001b[0;31mjava.sql.SQLException: Method not supported"
     ]
    }
   ],
   "source": [
    "%classpath add jar /opt/hive-1.2.1/lib/*\n",
    "%defaultDatasource jdbc:hive2://desktop2-dogfood.service.altiscale.com:28150/default;user=tnystrand\n",
    "show databases"
   ]
  },
  {
   "cell_type": "code",
   "execution_count": null,
   "metadata": {},
   "outputs": [],
   "source": []
  }
 ],
 "metadata": {
  "kernelspec": {
   "display_name": "SQL",
   "language": "SQL",
   "name": "sql"
  },
  "language_info": {
   "codemirror_mode": "sql",
   "file_extension": ".sql",
   "mimetype": "",
   "name": "SQL",
   "nbconverter_exporter": "",
   "version": ""
  }
 },
 "nbformat": 4,
 "nbformat_minor": 2
}
