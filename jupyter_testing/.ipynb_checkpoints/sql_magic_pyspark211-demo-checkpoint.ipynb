{
 "cells": [
  {
   "cell_type": "markdown",
   "metadata": {},
   "source": [
    "# To use sql_magic:\n",
    "* Must use spark version > 2.0.0 "
   ]
  },
  {
   "cell_type": "code",
   "execution_count": 1,
   "metadata": {},
   "outputs": [
    {
     "data": {
      "application/javascript": [
       "\n",
       "    require(['notebook/js/codecell'], function(codecell) {\n",
       "      // https://github.com/jupyter/notebook/issues/2453\n",
       "      codecell.CodeCell.options_default.highlight_modes['magic_text/x-sql'] = {'reg':[/^%read_sql/, /.*=\\s*%read_sql/,\n",
       "                                                                                      /^%%read_sql/]};\n",
       "      Jupyter.notebook.events.one('kernel_ready.Kernel', function(){\n",
       "          console.log('BBBBB');\n",
       "          Jupyter.notebook.get_cells().map(function(cell){\n",
       "              if (cell.cell_type == 'code'){ cell.auto_highlight(); } }) ;\n",
       "      });\n",
       "    });\n",
       "    "
      ]
     },
     "metadata": {},
     "output_type": "display_data"
    }
   ],
   "source": [
    "# Try to load sql_magic right away - early detect errors\n",
    "%load_ext sql_magic\n",
    "# Set the connection name\n",
    "%config SQL.conn_name = 'spark'"
   ]
  },
  {
   "cell_type": "code",
   "execution_count": 2,
   "metadata": {},
   "outputs": [
    {
     "name": "stdout",
     "output_type": "stream",
     "text": [
      "Query started at 10:56:01 AM UTC; Query executed in 0.02 m"
     ]
    },
    {
     "data": {
      "text/plain": [
       "<sql_magic.exceptions.EmptyResult at 0x7ff70c3dec10>"
      ]
     },
     "execution_count": 2,
     "metadata": {},
     "output_type": "execute_result"
    }
   ],
   "source": [
    "%%read_sql\n",
    "use cluster_metrics_prod_2"
   ]
  },
  {
   "cell_type": "code",
   "execution_count": 3,
   "metadata": {},
   "outputs": [
    {
     "name": "stdout",
     "output_type": "stream",
     "text": [
      "Query started at 10:56:04 AM UTC"
     ]
    }
   ],
   "source": [
    "%%read_sql -a df_fact\n",
    "select sum(slothours) as sh, date, system from job_fact where date>'2017-12-01' and system='dogfood' group by date, system"
   ]
  },
  {
   "cell_type": "code",
   "execution_count": 4,
   "metadata": {},
   "outputs": [
    {
     "name": "stdout",
     "output_type": "stream",
     "text": [
      "Query started at 10:56:12 AM UTC; Query executed in 0.28 m"
     ]
    },
    {
     "data": {
      "text/html": [
       "<div>\n",
       "<style>\n",
       "    .dataframe thead tr:only-child th {\n",
       "        text-align: right;\n",
       "    }\n",
       "\n",
       "    .dataframe thead th {\n",
       "        text-align: left;\n",
       "    }\n",
       "\n",
       "    .dataframe tbody tr th {\n",
       "        vertical-align: top;\n",
       "    }\n",
       "</style>\n",
       "<table border=\"1\" class=\"dataframe\">\n",
       "  <thead>\n",
       "    <tr style=\"text-align: right;\">\n",
       "      <th></th>\n",
       "      <th>sh</th>\n",
       "      <th>date</th>\n",
       "      <th>system</th>\n",
       "    </tr>\n",
       "  </thead>\n",
       "  <tbody>\n",
       "    <tr>\n",
       "      <th>0</th>\n",
       "      <td>63.234873</td>\n",
       "      <td>2018-01-02</td>\n",
       "      <td>dogfood</td>\n",
       "    </tr>\n",
       "    <tr>\n",
       "      <th>1</th>\n",
       "      <td>718.717338</td>\n",
       "      <td>2017-12-21</td>\n",
       "      <td>dogfood</td>\n",
       "    </tr>\n",
       "    <tr>\n",
       "      <th>2</th>\n",
       "      <td>0.000000</td>\n",
       "      <td>2017-12-31</td>\n",
       "      <td>dogfood</td>\n",
       "    </tr>\n",
       "    <tr>\n",
       "      <th>3</th>\n",
       "      <td>726.286912</td>\n",
       "      <td>2017-12-22</td>\n",
       "      <td>dogfood</td>\n",
       "    </tr>\n",
       "    <tr>\n",
       "      <th>4</th>\n",
       "      <td>902.810489</td>\n",
       "      <td>2018-01-03</td>\n",
       "      <td>dogfood</td>\n",
       "    </tr>\n",
       "    <tr>\n",
       "      <th>5</th>\n",
       "      <td>175.218173</td>\n",
       "      <td>2017-12-23</td>\n",
       "      <td>dogfood</td>\n",
       "    </tr>\n",
       "    <tr>\n",
       "      <th>6</th>\n",
       "      <td>0.000000</td>\n",
       "      <td>2018-01-01</td>\n",
       "      <td>dogfood</td>\n",
       "    </tr>\n",
       "  </tbody>\n",
       "</table>\n",
       "</div>"
      ],
      "text/plain": [
       "           sh        date   system\n",
       "0   63.234873  2018-01-02  dogfood\n",
       "1  718.717338  2017-12-21  dogfood\n",
       "2    0.000000  2017-12-31  dogfood\n",
       "3  726.286912  2017-12-22  dogfood\n",
       "4  902.810489  2018-01-03  dogfood\n",
       "5  175.218173  2017-12-23  dogfood\n",
       "6    0.000000  2018-01-01  dogfood"
      ]
     },
     "execution_count": 4,
     "metadata": {},
     "output_type": "execute_result"
    }
   ],
   "source": [
    "%read_sql select sum(slothours) as sh, date, system from job_fact where date>'2017-12-20' and system='dogfood' group by date,system"
   ]
  },
  {
   "cell_type": "code",
   "execution_count": 5,
   "metadata": {},
   "outputs": [
    {
     "data": {
      "text/plain": [
       "<matplotlib.axes._subplots.AxesSubplot at 0x7ff7098cd990>"
      ]
     },
     "execution_count": 5,
     "metadata": {},
     "output_type": "execute_result"
    },
    {
     "data": {
      "image/png": "[encoded data removed]",
      "text/plain": [
       "<matplotlib.figure.Figure at 0x7ff7098abed0>"
      ]
     },
     "metadata": {},
     "output_type": "display_data"
    }
   ],
   "source": [
    "%matplotlib inline\n",
    "%config InlineBackend.print_figure_kwargs = {'bbox_inches':None}\n",
    "df_fact.plot('date', 'sh', kind='line')"
   ]
  },
  {
   "cell_type": "code",
   "execution_count": 6,
   "metadata": {},
   "outputs": [
    {
     "data": {
      "text/plain": [
       "<matplotlib.axes._subplots.AxesSubplot at 0x7ff7093ea8d0>"
      ]
     },
     "execution_count": 6,
     "metadata": {},
     "output_type": "execute_result"
    },
    {
     "data": {
      "image/png": "[encoded data removed]",
      "text/plain": [
       "<matplotlib.figure.Figure at 0x7ff709312e10>"
      ]
     },
     "metadata": {},
     "output_type": "display_data"
    }
   ],
   "source": [
    "%matplotlib inline\n",
    "df_fact.plot('date', 'sh', kind='pie')"
   ]
  },
  {
   "cell_type": "code",
   "execution_count": 7,
   "metadata": {},
   "outputs": [
    {
     "data": {
      "text/html": [
       "<div>\n",
       "<style>\n",
       "    .dataframe thead tr:only-child th {\n",
       "        text-align: right;\n",
       "    }\n",
       "\n",
       "    .dataframe thead th {\n",
       "        text-align: left;\n",
       "    }\n",
       "\n",
       "    .dataframe tbody tr th {\n",
       "        vertical-align: top;\n",
       "    }\n",
       "</style>\n",
       "<table border=\"1\" class=\"dataframe\">\n",
       "  <thead>\n",
       "    <tr style=\"text-align: right;\">\n",
       "      <th></th>\n",
       "      <th>sh</th>\n",
       "      <th>date</th>\n",
       "      <th>system</th>\n",
       "    </tr>\n",
       "  </thead>\n",
       "  <tbody>\n",
       "    <tr>\n",
       "      <th>0</th>\n",
       "      <td>1115.150637</td>\n",
       "      <td>2017-12-15</td>\n",
       "      <td>dogfood</td>\n",
       "    </tr>\n",
       "    <tr>\n",
       "      <th>1</th>\n",
       "      <td>769.156078</td>\n",
       "      <td>2017-12-18</td>\n",
       "      <td>dogfood</td>\n",
       "    </tr>\n",
       "    <tr>\n",
       "      <th>2</th>\n",
       "      <td>643.749205</td>\n",
       "      <td>2017-12-20</td>\n",
       "      <td>dogfood</td>\n",
       "    </tr>\n",
       "    <tr>\n",
       "      <th>3</th>\n",
       "      <td>63.234873</td>\n",
       "      <td>2018-01-02</td>\n",
       "      <td>dogfood</td>\n",
       "    </tr>\n",
       "    <tr>\n",
       "      <th>4</th>\n",
       "      <td>996.020429</td>\n",
       "      <td>2017-12-08</td>\n",
       "      <td>dogfood</td>\n",
       "    </tr>\n",
       "    <tr>\n",
       "      <th>5</th>\n",
       "      <td>576.865885</td>\n",
       "      <td>2017-12-19</td>\n",
       "      <td>dogfood</td>\n",
       "    </tr>\n",
       "    <tr>\n",
       "      <th>6</th>\n",
       "      <td>718.717338</td>\n",
       "      <td>2017-12-21</td>\n",
       "      <td>dogfood</td>\n",
       "    </tr>\n",
       "    <tr>\n",
       "      <th>7</th>\n",
       "      <td>0.000000</td>\n",
       "      <td>2017-12-31</td>\n",
       "      <td>dogfood</td>\n",
       "    </tr>\n",
       "    <tr>\n",
       "      <th>8</th>\n",
       "      <td>585.432089</td>\n",
       "      <td>2017-12-14</td>\n",
       "      <td>dogfood</td>\n",
       "    </tr>\n",
       "    <tr>\n",
       "      <th>9</th>\n",
       "      <td>4074.123188</td>\n",
       "      <td>2017-12-03</td>\n",
       "      <td>dogfood</td>\n",
       "    </tr>\n",
       "    <tr>\n",
       "      <th>10</th>\n",
       "      <td>726.286912</td>\n",
       "      <td>2017-12-22</td>\n",
       "      <td>dogfood</td>\n",
       "    </tr>\n",
       "    <tr>\n",
       "      <th>11</th>\n",
       "      <td>838.802791</td>\n",
       "      <td>2017-12-13</td>\n",
       "      <td>dogfood</td>\n",
       "    </tr>\n",
       "    <tr>\n",
       "      <th>12</th>\n",
       "      <td>897.769464</td>\n",
       "      <td>2017-12-11</td>\n",
       "      <td>dogfood</td>\n",
       "    </tr>\n",
       "    <tr>\n",
       "      <th>13</th>\n",
       "      <td>1000.681112</td>\n",
       "      <td>2017-12-07</td>\n",
       "      <td>dogfood</td>\n",
       "    </tr>\n",
       "    <tr>\n",
       "      <th>14</th>\n",
       "      <td>902.810489</td>\n",
       "      <td>2018-01-03</td>\n",
       "      <td>dogfood</td>\n",
       "    </tr>\n",
       "    <tr>\n",
       "      <th>15</th>\n",
       "      <td>175.218173</td>\n",
       "      <td>2017-12-23</td>\n",
       "      <td>dogfood</td>\n",
       "    </tr>\n",
       "    <tr>\n",
       "      <th>16</th>\n",
       "      <td>967.405022</td>\n",
       "      <td>2017-12-09</td>\n",
       "      <td>dogfood</td>\n",
       "    </tr>\n",
       "    <tr>\n",
       "      <th>17</th>\n",
       "      <td>1073.664905</td>\n",
       "      <td>2017-12-02</td>\n",
       "      <td>dogfood</td>\n",
       "    </tr>\n",
       "    <tr>\n",
       "      <th>18</th>\n",
       "      <td>1089.721959</td>\n",
       "      <td>2017-12-04</td>\n",
       "      <td>dogfood</td>\n",
       "    </tr>\n",
       "    <tr>\n",
       "      <th>19</th>\n",
       "      <td>0.000000</td>\n",
       "      <td>2018-01-01</td>\n",
       "      <td>dogfood</td>\n",
       "    </tr>\n",
       "    <tr>\n",
       "      <th>20</th>\n",
       "      <td>922.005653</td>\n",
       "      <td>2017-12-10</td>\n",
       "      <td>dogfood</td>\n",
       "    </tr>\n",
       "    <tr>\n",
       "      <th>21</th>\n",
       "      <td>640.902201</td>\n",
       "      <td>2017-12-06</td>\n",
       "      <td>dogfood</td>\n",
       "    </tr>\n",
       "    <tr>\n",
       "      <th>22</th>\n",
       "      <td>696.737527</td>\n",
       "      <td>2017-12-16</td>\n",
       "      <td>dogfood</td>\n",
       "    </tr>\n",
       "    <tr>\n",
       "      <th>23</th>\n",
       "      <td>326.080148</td>\n",
       "      <td>2017-12-05</td>\n",
       "      <td>dogfood</td>\n",
       "    </tr>\n",
       "    <tr>\n",
       "      <th>24</th>\n",
       "      <td>711.745067</td>\n",
       "      <td>2017-12-17</td>\n",
       "      <td>dogfood</td>\n",
       "    </tr>\n",
       "    <tr>\n",
       "      <th>25</th>\n",
       "      <td>911.351245</td>\n",
       "      <td>2017-12-12</td>\n",
       "      <td>dogfood</td>\n",
       "    </tr>\n",
       "  </tbody>\n",
       "</table>\n",
       "</div>"
      ],
      "text/plain": [
       "             sh        date   system\n",
       "0   1115.150637  2017-12-15  dogfood\n",
       "1    769.156078  2017-12-18  dogfood\n",
       "2    643.749205  2017-12-20  dogfood\n",
       "3     63.234873  2018-01-02  dogfood\n",
       "4    996.020429  2017-12-08  dogfood\n",
       "5    576.865885  2017-12-19  dogfood\n",
       "6    718.717338  2017-12-21  dogfood\n",
       "7      0.000000  2017-12-31  dogfood\n",
       "8    585.432089  2017-12-14  dogfood\n",
       "9   4074.123188  2017-12-03  dogfood\n",
       "10   726.286912  2017-12-22  dogfood\n",
       "11   838.802791  2017-12-13  dogfood\n",
       "12   897.769464  2017-12-11  dogfood\n",
       "13  1000.681112  2017-12-07  dogfood\n",
       "14   902.810489  2018-01-03  dogfood\n",
       "15   175.218173  2017-12-23  dogfood\n",
       "16   967.405022  2017-12-09  dogfood\n",
       "17  1073.664905  2017-12-02  dogfood\n",
       "18  1089.721959  2017-12-04  dogfood\n",
       "19     0.000000  2018-01-01  dogfood\n",
       "20   922.005653  2017-12-10  dogfood\n",
       "21   640.902201  2017-12-06  dogfood\n",
       "22   696.737527  2017-12-16  dogfood\n",
       "23   326.080148  2017-12-05  dogfood\n",
       "24   711.745067  2017-12-17  dogfood\n",
       "25   911.351245  2017-12-12  dogfood"
      ]
     },
     "execution_count": 7,
     "metadata": {},
     "output_type": "execute_result"
    }
   ],
   "source": [
    "df_fact"
   ]
  },
  {
   "cell_type": "code",
   "execution_count": null,
   "metadata": {},
   "outputs": [],
   "source": []
  }
 ],
 "metadata": {
  "anaconda-cloud": {},
  "kernelspec": {
   "display_name": "Pyspark (2.1.1)",
   "language": "python",
   "name": "pyspark-2.1.1"
  },
  "language_info": {
   "codemirror_mode": {
    "name": "ipython",
    "version": 2
   },
   "file_extension": ".py",
   "mimetype": "text/x-python",
   "name": "python",
   "nbconvert_exporter": "python",
   "pygments_lexer": "ipython2",
   "version": "2.7.12"
  }
 },
 "nbformat": 4,
 "nbformat_minor": 2
}
